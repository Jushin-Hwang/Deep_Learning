{
 "cells": [
  {
   "cell_type": "markdown",
   "metadata": {},
   "source": [
    "# 1) 데이터 읽기"
   ]
  },
  {
   "cell_type": "markdown",
   "metadata": {},
   "source": [
    "1. Area: Returns the number of pixels within the boundaries of the rice grain.\n",
    "2. Perimeter: Calculates the circumference by calculating the distance between pixels around the boundaries of the rice grain.\n",
    "3. Major Axis Length: The longest line that can be drawn on the rice grain, i.e. the main axis distance, gives.\n",
    "4. Minor Axis Length: The shortest line that can be drawn on the rice grain, i.e. the small axis distance, gives.\n",
    "5. Eccentricity: It measures how round the ellipse, which has the same moments as the rice grain, is.\n",
    "6. Convex Area: Returns the pixel count of the smallest convex shell of the region formed by the rice grain.\n",
    "7. Extent: Returns the ratio of the region formed by the rice grain to the bounding box pixels\n",
    "8. Class: Commeo and Osmancik."
   ]
  },
  {
   "cell_type": "code",
   "execution_count": 1,
   "metadata": {},
   "outputs": [
    {
     "data": {
      "text/html": [
       "<div>\n",
       "<style scoped>\n",
       "    .dataframe tbody tr th:only-of-type {\n",
       "        vertical-align: middle;\n",
       "    }\n",
       "\n",
       "    .dataframe tbody tr th {\n",
       "        vertical-align: top;\n",
       "    }\n",
       "\n",
       "    .dataframe thead th {\n",
       "        text-align: right;\n",
       "    }\n",
       "</style>\n",
       "<table border=\"1\" class=\"dataframe\">\n",
       "  <thead>\n",
       "    <tr style=\"text-align: right;\">\n",
       "      <th></th>\n",
       "      <th>Area</th>\n",
       "      <th>Perimeter</th>\n",
       "      <th>Major_Axis_Length</th>\n",
       "      <th>Minor_Axis_Length</th>\n",
       "      <th>Eccentricity</th>\n",
       "      <th>Convex_Area</th>\n",
       "      <th>Extent</th>\n",
       "      <th>Class</th>\n",
       "    </tr>\n",
       "  </thead>\n",
       "  <tbody>\n",
       "    <tr>\n",
       "      <th>0</th>\n",
       "      <td>15231</td>\n",
       "      <td>525.578979</td>\n",
       "      <td>229.749878</td>\n",
       "      <td>85.093788</td>\n",
       "      <td>0.928882</td>\n",
       "      <td>15617</td>\n",
       "      <td>0.572896</td>\n",
       "      <td>Cammeo</td>\n",
       "    </tr>\n",
       "    <tr>\n",
       "      <th>1</th>\n",
       "      <td>14656</td>\n",
       "      <td>494.311005</td>\n",
       "      <td>206.020065</td>\n",
       "      <td>91.730972</td>\n",
       "      <td>0.895405</td>\n",
       "      <td>15072</td>\n",
       "      <td>0.615436</td>\n",
       "      <td>Cammeo</td>\n",
       "    </tr>\n",
       "    <tr>\n",
       "      <th>2</th>\n",
       "      <td>14634</td>\n",
       "      <td>501.122009</td>\n",
       "      <td>214.106781</td>\n",
       "      <td>87.768288</td>\n",
       "      <td>0.912118</td>\n",
       "      <td>14954</td>\n",
       "      <td>0.693259</td>\n",
       "      <td>Cammeo</td>\n",
       "    </tr>\n",
       "    <tr>\n",
       "      <th>3</th>\n",
       "      <td>13176</td>\n",
       "      <td>458.342987</td>\n",
       "      <td>193.337387</td>\n",
       "      <td>87.448395</td>\n",
       "      <td>0.891861</td>\n",
       "      <td>13368</td>\n",
       "      <td>0.640669</td>\n",
       "      <td>Cammeo</td>\n",
       "    </tr>\n",
       "    <tr>\n",
       "      <th>4</th>\n",
       "      <td>14688</td>\n",
       "      <td>507.166992</td>\n",
       "      <td>211.743378</td>\n",
       "      <td>89.312454</td>\n",
       "      <td>0.906691</td>\n",
       "      <td>15262</td>\n",
       "      <td>0.646024</td>\n",
       "      <td>Cammeo</td>\n",
       "    </tr>\n",
       "    <tr>\n",
       "      <th>...</th>\n",
       "      <td>...</td>\n",
       "      <td>...</td>\n",
       "      <td>...</td>\n",
       "      <td>...</td>\n",
       "      <td>...</td>\n",
       "      <td>...</td>\n",
       "      <td>...</td>\n",
       "      <td>...</td>\n",
       "    </tr>\n",
       "    <tr>\n",
       "      <th>3805</th>\n",
       "      <td>11441</td>\n",
       "      <td>415.858002</td>\n",
       "      <td>170.486771</td>\n",
       "      <td>85.756592</td>\n",
       "      <td>0.864280</td>\n",
       "      <td>11628</td>\n",
       "      <td>0.681012</td>\n",
       "      <td>Osmancik</td>\n",
       "    </tr>\n",
       "    <tr>\n",
       "      <th>3806</th>\n",
       "      <td>11625</td>\n",
       "      <td>421.390015</td>\n",
       "      <td>167.714798</td>\n",
       "      <td>89.462570</td>\n",
       "      <td>0.845850</td>\n",
       "      <td>11904</td>\n",
       "      <td>0.694279</td>\n",
       "      <td>Osmancik</td>\n",
       "    </tr>\n",
       "    <tr>\n",
       "      <th>3807</th>\n",
       "      <td>12437</td>\n",
       "      <td>442.498993</td>\n",
       "      <td>183.572922</td>\n",
       "      <td>86.801979</td>\n",
       "      <td>0.881144</td>\n",
       "      <td>12645</td>\n",
       "      <td>0.626739</td>\n",
       "      <td>Osmancik</td>\n",
       "    </tr>\n",
       "    <tr>\n",
       "      <th>3808</th>\n",
       "      <td>9882</td>\n",
       "      <td>392.296997</td>\n",
       "      <td>161.193985</td>\n",
       "      <td>78.210480</td>\n",
       "      <td>0.874406</td>\n",
       "      <td>10097</td>\n",
       "      <td>0.659064</td>\n",
       "      <td>Osmancik</td>\n",
       "    </tr>\n",
       "    <tr>\n",
       "      <th>3809</th>\n",
       "      <td>11434</td>\n",
       "      <td>404.709991</td>\n",
       "      <td>161.079269</td>\n",
       "      <td>90.868195</td>\n",
       "      <td>0.825692</td>\n",
       "      <td>11591</td>\n",
       "      <td>0.802949</td>\n",
       "      <td>Osmancik</td>\n",
       "    </tr>\n",
       "  </tbody>\n",
       "</table>\n",
       "<p>3810 rows × 8 columns</p>\n",
       "</div>"
      ],
      "text/plain": [
       "       Area   Perimeter  Major_Axis_Length  Minor_Axis_Length  Eccentricity  \\\n",
       "0     15231  525.578979         229.749878          85.093788      0.928882   \n",
       "1     14656  494.311005         206.020065          91.730972      0.895405   \n",
       "2     14634  501.122009         214.106781          87.768288      0.912118   \n",
       "3     13176  458.342987         193.337387          87.448395      0.891861   \n",
       "4     14688  507.166992         211.743378          89.312454      0.906691   \n",
       "...     ...         ...                ...                ...           ...   \n",
       "3805  11441  415.858002         170.486771          85.756592      0.864280   \n",
       "3806  11625  421.390015         167.714798          89.462570      0.845850   \n",
       "3807  12437  442.498993         183.572922          86.801979      0.881144   \n",
       "3808   9882  392.296997         161.193985          78.210480      0.874406   \n",
       "3809  11434  404.709991         161.079269          90.868195      0.825692   \n",
       "\n",
       "      Convex_Area    Extent     Class  \n",
       "0           15617  0.572896    Cammeo  \n",
       "1           15072  0.615436    Cammeo  \n",
       "2           14954  0.693259    Cammeo  \n",
       "3           13368  0.640669    Cammeo  \n",
       "4           15262  0.646024    Cammeo  \n",
       "...           ...       ...       ...  \n",
       "3805        11628  0.681012  Osmancik  \n",
       "3806        11904  0.694279  Osmancik  \n",
       "3807        12645  0.626739  Osmancik  \n",
       "3808        10097  0.659064  Osmancik  \n",
       "3809        11591  0.802949  Osmancik  \n",
       "\n",
       "[3810 rows x 8 columns]"
      ]
     },
     "execution_count": 1,
     "metadata": {},
     "output_type": "execute_result"
    }
   ],
   "source": [
    "import pandas as pd\n",
    "\n",
    "feature_name = ['Area', 'Perimeter', 'Major_Axis_Length', 'Minor_Axis_Length', 'Eccentricity', 'Convex_Area', 'Extent', 'Class']\n",
    "rice = pd.read_csv('./Rice.data', names = feature_name)\n",
    "\n",
    "rice"
   ]
  },
  {
   "cell_type": "markdown",
   "metadata": {},
   "source": [
    "# 2) 결측치 확인"
   ]
  },
  {
   "cell_type": "code",
   "execution_count": 2,
   "metadata": {},
   "outputs": [
    {
     "data": {
      "text/plain": [
       "Area                 0\n",
       "Perimeter            0\n",
       "Major_Axis_Length    0\n",
       "Minor_Axis_Length    0\n",
       "Eccentricity         0\n",
       "Convex_Area          0\n",
       "Extent               0\n",
       "Class                0\n",
       "dtype: int64"
      ]
     },
     "execution_count": 2,
     "metadata": {},
     "output_type": "execute_result"
    }
   ],
   "source": [
    "# 결측치 확인\n",
    "rice.isnull().sum()"
   ]
  },
  {
   "cell_type": "markdown",
   "metadata": {},
   "source": [
    "# 3) 클래스 갯수 확인 (그래프, 레이블 갯수)"
   ]
  },
  {
   "cell_type": "code",
   "execution_count": 4,
   "metadata": {},
   "outputs": [
    {
     "data": {
      "text/plain": [
       "Text(0.5, 1.0, 'Commeo and Osmancik')"
      ]
     },
     "execution_count": 4,
     "metadata": {},
     "output_type": "execute_result"
    },
    {
     "data": {
      "image/png": "[encoded data removed]",
      "text/plain": [
       "<Figure size 640x480 with 1 Axes>"
      ]
     },
     "metadata": {},
     "output_type": "display_data"
    }
   ],
   "source": [
    "# 레이블 갯수 확인 (그래프)\n",
    "import seaborn as sns\n",
    "import matplotlib.pyplot as plt\n",
    "\n",
    "sns.countplot(data = rice, x=\"Class\")\n",
    "plt.xlabel(\"Class\")\n",
    "plt.ylabel(\"Count\")\n",
    "plt.title(\"Commeo and Osmancik\")"
   ]
  },
  {
   "cell_type": "code",
   "execution_count": 6,
   "metadata": {},
   "outputs": [
    {
     "data": {
      "text/plain": [
       "Class\n",
       "Osmancik    2180\n",
       "Cammeo      1630\n",
       "Name: count, dtype: int64"
      ]
     },
     "execution_count": 6,
     "metadata": {},
     "output_type": "execute_result"
    }
   ],
   "source": [
    "# 레이블 갯수 확인 (숫자)\n",
    "rice['Class'].value_counts()"
   ]
  },
  {
   "cell_type": "markdown",
   "metadata": {},
   "source": [
    "# 5) X, Y 나누기"
   ]
  },
  {
   "cell_type": "code",
   "execution_count": 7,
   "metadata": {},
   "outputs": [
    {
     "name": "stdout",
     "output_type": "stream",
     "text": [
      "    Area   Perimeter  Major_Axis_Length  Minor_Axis_Length  Eccentricity  \\\n",
      "0  15231  525.578979         229.749878          85.093788      0.928882   \n",
      "1  14656  494.311005         206.020065          91.730972      0.895405   \n",
      "2  14634  501.122009         214.106781          87.768288      0.912118   \n",
      "3  13176  458.342987         193.337387          87.448395      0.891861   \n",
      "4  14688  507.166992         211.743378          89.312454      0.906691   \n",
      "\n",
      "   Convex_Area    Extent  \n",
      "0        15617  0.572896  \n",
      "1        15072  0.615436  \n",
      "2        14954  0.693259  \n",
      "3        13368  0.640669  \n",
      "4        15262  0.646024  \n",
      "\n",
      "Class\n",
      "Osmancik    2180\n",
      "Cammeo      1630\n",
      "Name: count, dtype: int64\n"
     ]
    }
   ],
   "source": [
    "X = rice.drop('Class', axis = 1)\n",
    "Y = rice['Class']\n",
    "\n",
    "print(X.head())\n",
    "print()\n",
    "print(Y.value_counts())"
   ]
  },
  {
   "cell_type": "markdown",
   "metadata": {},
   "source": [
    "# 6) 데이터 스케일링"
   ]
  },
  {
   "cell_type": "code",
   "execution_count": 8,
   "metadata": {},
   "outputs": [
    {
     "data": {
      "text/html": [
       "<div>\n",
       "<style scoped>\n",
       "    .dataframe tbody tr th:only-of-type {\n",
       "        vertical-align: middle;\n",
       "    }\n",
       "\n",
       "    .dataframe tbody tr th {\n",
       "        vertical-align: top;\n",
       "    }\n",
       "\n",
       "    .dataframe thead th {\n",
       "        text-align: right;\n",
       "    }\n",
       "</style>\n",
       "<table border=\"1\" class=\"dataframe\">\n",
       "  <thead>\n",
       "    <tr style=\"text-align: right;\">\n",
       "      <th></th>\n",
       "      <th>Area</th>\n",
       "      <th>Perimeter</th>\n",
       "      <th>Major_Axis_Length</th>\n",
       "      <th>Minor_Axis_Length</th>\n",
       "      <th>Eccentricity</th>\n",
       "      <th>Convex_Area</th>\n",
       "      <th>Extent</th>\n",
       "    </tr>\n",
       "  </thead>\n",
       "  <tbody>\n",
       "    <tr>\n",
       "      <th>0</th>\n",
       "      <td>1.479830</td>\n",
       "      <td>2.004354</td>\n",
       "      <td>2.348547</td>\n",
       "      <td>-0.212943</td>\n",
       "      <td>2.018337</td>\n",
       "      <td>1.499659</td>\n",
       "      <td>-1.152921</td>\n",
       "    </tr>\n",
       "    <tr>\n",
       "      <th>1</th>\n",
       "      <td>1.147870</td>\n",
       "      <td>1.125853</td>\n",
       "      <td>0.988390</td>\n",
       "      <td>0.945568</td>\n",
       "      <td>0.410018</td>\n",
       "      <td>1.192918</td>\n",
       "      <td>-0.602079</td>\n",
       "    </tr>\n",
       "    <tr>\n",
       "      <th>2</th>\n",
       "      <td>1.135169</td>\n",
       "      <td>1.317214</td>\n",
       "      <td>1.451908</td>\n",
       "      <td>0.253887</td>\n",
       "      <td>1.212956</td>\n",
       "      <td>1.126504</td>\n",
       "      <td>0.405611</td>\n",
       "    </tr>\n",
       "    <tr>\n",
       "      <th>3</th>\n",
       "      <td>0.293436</td>\n",
       "      <td>0.115300</td>\n",
       "      <td>0.261439</td>\n",
       "      <td>0.198051</td>\n",
       "      <td>0.239751</td>\n",
       "      <td>0.233857</td>\n",
       "      <td>-0.275351</td>\n",
       "    </tr>\n",
       "    <tr>\n",
       "      <th>4</th>\n",
       "      <td>1.166345</td>\n",
       "      <td>1.487053</td>\n",
       "      <td>1.316442</td>\n",
       "      <td>0.523419</td>\n",
       "      <td>0.952221</td>\n",
       "      <td>1.299855</td>\n",
       "      <td>-0.206013</td>\n",
       "    </tr>\n",
       "    <tr>\n",
       "      <th>...</th>\n",
       "      <td>...</td>\n",
       "      <td>...</td>\n",
       "      <td>...</td>\n",
       "      <td>...</td>\n",
       "      <td>...</td>\n",
       "      <td>...</td>\n",
       "      <td>...</td>\n",
       "    </tr>\n",
       "    <tr>\n",
       "      <th>3805</th>\n",
       "      <td>-0.708215</td>\n",
       "      <td>-1.078353</td>\n",
       "      <td>-1.048323</td>\n",
       "      <td>-0.097251</td>\n",
       "      <td>-1.085282</td>\n",
       "      <td>-0.745465</td>\n",
       "      <td>0.247031</td>\n",
       "    </tr>\n",
       "    <tr>\n",
       "      <th>3806</th>\n",
       "      <td>-0.601988</td>\n",
       "      <td>-0.922926</td>\n",
       "      <td>-1.207208</td>\n",
       "      <td>0.549622</td>\n",
       "      <td>-1.970731</td>\n",
       "      <td>-0.590124</td>\n",
       "      <td>0.418815</td>\n",
       "    </tr>\n",
       "    <tr>\n",
       "      <th>3807</th>\n",
       "      <td>-0.133204</td>\n",
       "      <td>-0.329851</td>\n",
       "      <td>-0.298245</td>\n",
       "      <td>0.085220</td>\n",
       "      <td>-0.275099</td>\n",
       "      <td>-0.173068</td>\n",
       "      <td>-0.455731</td>\n",
       "    </tr>\n",
       "    <tr>\n",
       "      <th>3808</th>\n",
       "      <td>-1.608257</td>\n",
       "      <td>-1.740320</td>\n",
       "      <td>-1.580971</td>\n",
       "      <td>-1.414414</td>\n",
       "      <td>-0.598821</td>\n",
       "      <td>-1.607156</td>\n",
       "      <td>-0.037168</td>\n",
       "    </tr>\n",
       "    <tr>\n",
       "      <th>3809</th>\n",
       "      <td>-0.712256</td>\n",
       "      <td>-1.391566</td>\n",
       "      <td>-1.587546</td>\n",
       "      <td>0.794972</td>\n",
       "      <td>-2.939160</td>\n",
       "      <td>-0.766290</td>\n",
       "      <td>1.825947</td>\n",
       "    </tr>\n",
       "  </tbody>\n",
       "</table>\n",
       "<p>3810 rows × 7 columns</p>\n",
       "</div>"
      ],
      "text/plain": [
       "          Area  Perimeter  Major_Axis_Length  Minor_Axis_Length  Eccentricity  \\\n",
       "0     1.479830   2.004354           2.348547          -0.212943      2.018337   \n",
       "1     1.147870   1.125853           0.988390           0.945568      0.410018   \n",
       "2     1.135169   1.317214           1.451908           0.253887      1.212956   \n",
       "3     0.293436   0.115300           0.261439           0.198051      0.239751   \n",
       "4     1.166345   1.487053           1.316442           0.523419      0.952221   \n",
       "...        ...        ...                ...                ...           ...   \n",
       "3805 -0.708215  -1.078353          -1.048323          -0.097251     -1.085282   \n",
       "3806 -0.601988  -0.922926          -1.207208           0.549622     -1.970731   \n",
       "3807 -0.133204  -0.329851          -0.298245           0.085220     -0.275099   \n",
       "3808 -1.608257  -1.740320          -1.580971          -1.414414     -0.598821   \n",
       "3809 -0.712256  -1.391566          -1.587546           0.794972     -2.939160   \n",
       "\n",
       "      Convex_Area    Extent  \n",
       "0        1.499659 -1.152921  \n",
       "1        1.192918 -0.602079  \n",
       "2        1.126504  0.405611  \n",
       "3        0.233857 -0.275351  \n",
       "4        1.299855 -0.206013  \n",
       "...           ...       ...  \n",
       "3805    -0.745465  0.247031  \n",
       "3806    -0.590124  0.418815  \n",
       "3807    -0.173068 -0.455731  \n",
       "3808    -1.607156 -0.037168  \n",
       "3809    -0.766290  1.825947  \n",
       "\n",
       "[3810 rows x 7 columns]"
      ]
     },
     "execution_count": 8,
     "metadata": {},
     "output_type": "execute_result"
    }
   ],
   "source": [
    "from sklearn.preprocessing import StandardScaler\n",
    "# from sklearn.preprocessing import MinMaxScaler\n",
    "\n",
    "\n",
    "scaler = StandardScaler()\n",
    "X_scaled_data = scaler.fit_transform(X)\n",
    "\n",
    "X = pd.DataFrame(X_scaled_data,\n",
    "                            index = X.index,\n",
    "                            columns = X.columns) \n",
    "\n",
    "X"
   ]
  },
  {
   "cell_type": "markdown",
   "metadata": {},
   "source": [
    "# 7) Train데이터, Test데이터 나누기"
   ]
  },
  {
   "cell_type": "code",
   "execution_count": 9,
   "metadata": {},
   "outputs": [],
   "source": [
    "# split X_train, Y_train, X_test, Y_test\n",
    "from sklearn.model_selection import train_test_split\n",
    "\n",
    "X_train, X_test, Y_train, Y_test = train_test_split(X, Y, test_size = 0.2, random_state = 0)"
   ]
  },
  {
   "cell_type": "markdown",
   "metadata": {},
   "source": [
    "# 8) 모델 정의, 학습, 예측"
   ]
  },
  {
   "cell_type": "markdown",
   "metadata": {},
   "source": [
    "## Linear Regression"
   ]
  },
  {
   "cell_type": "code",
   "execution_count": 10,
   "metadata": {},
   "outputs": [
    {
     "name": "stdout",
     "output_type": "stream",
     "text": [
      "\n",
      "--- Logistic Regression Classifier ---\n",
      "0.9356955380577427\n",
      "[[308  29]\n",
      " [ 20 405]]\n"
     ]
    }
   ],
   "source": [
    "from sklearn.linear_model import LogisticRegression\n",
    "import numpy as np\n",
    "from sklearn.metrics import accuracy_score, confusion_matrix\n",
    "\n",
    "clf = LogisticRegression()\n",
    "\n",
    "# 학습\n",
    "clf.fit(X_train, Y_train)\n",
    "\n",
    "# 테스트 데이터로 예측\n",
    "y_pred= clf.predict(X_test)\n",
    "\n",
    "# 정확도 계산\n",
    "print (\"\\n--- Logistic Regression Classifier ---\")\n",
    "print (accuracy_score(Y_test, y_pred))\n",
    "print (confusion_matrix(Y_test, y_pred))"
   ]
  },
  {
   "cell_type": "markdown",
   "metadata": {},
   "source": [
    "## Decision Tree"
   ]
  },
  {
   "cell_type": "code",
   "execution_count": 11,
   "metadata": {},
   "outputs": [
    {
     "name": "stdout",
     "output_type": "stream",
     "text": [
      "\n",
      "--- DecisionTree Classifier ---\n",
      "0.9120734908136483\n",
      "[[299  38]\n",
      " [ 29 396]]\n"
     ]
    }
   ],
   "source": [
    "from sklearn.tree import DecisionTreeClassifier\n",
    "import numpy as np\n",
    "from sklearn.metrics import accuracy_score, confusion_matrix\n",
    "\n",
    "clf = DecisionTreeClassifier(random_state = 0)\n",
    "\n",
    "# 학습\n",
    "clf.fit(X_train, Y_train)\n",
    "\n",
    "# 테스트 데이터로 예측\n",
    "y_pred= clf.predict(X_test)\n",
    "\n",
    "# 정확도 계산\n",
    "print (\"\\n--- DecisionTree Classifier ---\")\n",
    "print (accuracy_score(Y_test, y_pred))\n",
    "print (confusion_matrix(Y_test, y_pred))"
   ]
  },
  {
   "cell_type": "markdown",
   "metadata": {},
   "source": [
    "## Random Forest"
   ]
  },
  {
   "cell_type": "code",
   "execution_count": 12,
   "metadata": {},
   "outputs": [
    {
     "name": "stdout",
     "output_type": "stream",
     "text": [
      "\n",
      "--- RandomForest Classifier ---\n",
      "0.926509186351706\n",
      "[[304  33]\n",
      " [ 23 402]]\n"
     ]
    }
   ],
   "source": [
    "# RandomForest\n",
    "\n",
    "from sklearn.ensemble import RandomForestClassifier\n",
    "import numpy as np\n",
    "\n",
    "clf = RandomForestClassifier(random_state=0)\n",
    "\n",
    "# 학습\n",
    "clf.fit(X_train, Y_train)\n",
    "\n",
    "# 테스트 데이터로 예측\n",
    "y_pred= clf.predict(X_test)\n",
    "\n",
    "# 정확도 계산\n",
    "print (\"\\n--- RandomForest Classifier ---\")\n",
    "print (accuracy_score(Y_test, y_pred))\n",
    "print (confusion_matrix(Y_test, y_pred))"
   ]
  },
  {
   "cell_type": "code",
   "execution_count": null,
   "metadata": {},
   "outputs": [],
   "source": []
  }
 ],
 "metadata": {
  "kernelspec": {
   "display_name": "Python 3",
   "language": "python",
   "name": "python3"
  },
  "language_info": {
   "codemirror_mode": {
    "name": "ipython",
    "version": 3
   },
   "file_extension": ".py",
   "mimetype": "text/x-python",
   "name": "python",
   "nbconvert_exporter": "python",
   "pygments_lexer": "ipython3",
   "version": "3.12.2"
  }
 },
 "nbformat": 4,
 "nbformat_minor": 2
}
